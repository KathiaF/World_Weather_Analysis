{
 "cells": [
  {
   "cell_type": "code",
   "execution_count": 1,
   "metadata": {},
   "outputs": [],
   "source": [
    "# Dependencies\n",
    "import json\n",
    "import os\n",
    "\n",
    "# Load JSON\n",
    "#filepath = os.path.join(\"..\", \"Resources\", \"youtube_response.json\")\n",
    "filepath = os.path.join(\"Resources\", \"youtube_response.json\")\n",
    "with open(filepath) as jsonfile:\n",
    "    json_data = json.load(jsonfile)"
   ]
  },
  {
   "cell_type": "code",
   "execution_count": 2,
   "metadata": {},
   "outputs": [
    {
     "data": {
      "text/plain": [
       "{'apiVersion': '2.0',\n",
       " 'data': {'updated': '2010-01-07T19:58:42.949Z',\n",
       "  'totalItems': 800,\n",
       "  'startIndex': 1,\n",
       "  'itemsPerPage': 1,\n",
       "  'items': [{'id': 'hYB0mn5zh2c',\n",
       "    'uploaded': '2007-06-05T22:07:03.000Z',\n",
       "    'updated': '2010-01-07T13:26:50.000Z',\n",
       "    'uploader': 'GoogleDeveloperDay',\n",
       "    'category': 'News',\n",
       "    'title': 'Google Developers Day US - Maps API Introduction',\n",
       "    'description': 'Google Maps API Introduction ...',\n",
       "    'tags': ['GDD07', 'GDD07US', 'Maps'],\n",
       "    'thumbnail': {'default': 'http://i.ytimg.com/vi/hYB0mn5zh2c/default.jpg',\n",
       "     'hqDefault': 'http://i.ytimg.com/vi/hYB0mn5zh2c/hqdefault.jpg'},\n",
       "    'player': {'default': 'http://www.youtube.com/watch?vu003dhYB0mn5zh2c'},\n",
       "    'content': {'1': 'rtsp://v5.cache3.c.youtube.com/CiILENy.../0/0/0/video.3gp',\n",
       "     '5': 'http://www.youtube.com/v/hYB0mn5zh2c?f...',\n",
       "     '6': 'rtsp://v1.cache1.c.youtube.com/CiILENy.../0/0/0/video.3gp'},\n",
       "    'duration': 2840,\n",
       "    'aspectRatio': 'widescreen',\n",
       "    'rating': 4.63,\n",
       "    'ratingCount': 68,\n",
       "    'viewCount': 220101,\n",
       "    'favoriteCount': 201,\n",
       "    'commentCount': 22,\n",
       "    'status': {'value': 'restricted', 'reason': 'limitedSyndication'},\n",
       "    'accessControl': {'syndicate': 'allowed',\n",
       "     'commentVote': 'allowed',\n",
       "     'rate': 'allowed',\n",
       "     'list': 'allowed',\n",
       "     'comment': 'allowed',\n",
       "     'embed': 'allowed',\n",
       "     'videoRespond': 'moderated'}}]}}"
      ]
     },
     "execution_count": 2,
     "metadata": {},
     "output_type": "execute_result"
    }
   ],
   "source": [
    "json_data"
   ]
  },
  {
   "cell_type": "code",
   "execution_count": 5,
   "metadata": {},
   "outputs": [
    {
     "data": {
      "text/plain": [
       "'Google Developers Day US - Maps API Introduction'"
      ]
     },
     "execution_count": 5,
     "metadata": {},
     "output_type": "execute_result"
    }
   ],
   "source": [
    "json_data['data']['items'][0]['title']\n",
    "#data dictionary\n",
    "#items is a list\n",
    "#0 list index (first element of the list) - object\n",
    "#title is an object"
   ]
  },
  {
   "cell_type": "code",
   "execution_count": 6,
   "metadata": {},
   "outputs": [
    {
     "data": {
      "text/plain": [
       "4.63"
      ]
     },
     "execution_count": 6,
     "metadata": {},
     "output_type": "execute_result"
    }
   ],
   "source": [
    "json_data['data']['items'][0]['rating']"
   ]
  },
  {
   "cell_type": "code",
   "execution_count": 8,
   "metadata": {},
   "outputs": [
    {
     "data": {
      "text/plain": [
       "'http://i.ytimg.com/vi/hYB0mn5zh2c/default.jpg'"
      ]
     },
     "execution_count": 8,
     "metadata": {},
     "output_type": "execute_result"
    }
   ],
   "source": [
    "json_data['data']['items'][0]['thumbnail']['default']\n",
    "#default: object"
   ]
  },
  {
   "cell_type": "code",
   "execution_count": 9,
   "metadata": {},
   "outputs": [
    {
     "name": "stdout",
     "output_type": "stream",
     "text": [
      "{\n",
      "    \"apiVersion\": \"2.0\",\n",
      "    \"data\": {\n",
      "        \"updated\": \"2010-01-07T19:58:42.949Z\",\n",
      "        \"totalItems\": 800,\n",
      "        \"startIndex\": 1,\n",
      "        \"itemsPerPage\": 1,\n",
      "        \"items\": [\n",
      "            {\n",
      "                \"id\": \"hYB0mn5zh2c\",\n",
      "                \"uploaded\": \"2007-06-05T22:07:03.000Z\",\n",
      "                \"updated\": \"2010-01-07T13:26:50.000Z\",\n",
      "                \"uploader\": \"GoogleDeveloperDay\",\n",
      "                \"category\": \"News\",\n",
      "                \"title\": \"Google Developers Day US - Maps API Introduction\",\n",
      "                \"description\": \"Google Maps API Introduction ...\",\n",
      "                \"tags\": [\n",
      "                    \"GDD07\",\n",
      "                    \"GDD07US\",\n",
      "                    \"Maps\"\n",
      "                ],\n",
      "                \"thumbnail\": {\n",
      "                    \"default\": \"http://i.ytimg.com/vi/hYB0mn5zh2c/default.jpg\",\n",
      "                    \"hqDefault\": \"http://i.ytimg.com/vi/hYB0mn5zh2c/hqdefault.jpg\"\n",
      "                },\n",
      "                \"player\": {\n",
      "                    \"default\": \"http://www.youtube.com/watch?vu003dhYB0mn5zh2c\"\n",
      "                },\n",
      "                \"content\": {\n",
      "                    \"1\": \"rtsp://v5.cache3.c.youtube.com/CiILENy.../0/0/0/video.3gp\",\n",
      "                    \"5\": \"http://www.youtube.com/v/hYB0mn5zh2c?f...\",\n",
      "                    \"6\": \"rtsp://v1.cache1.c.youtube.com/CiILENy.../0/0/0/video.3gp\"\n",
      "                },\n",
      "                \"duration\": 2840,\n",
      "                \"aspectRatio\": \"widescreen\",\n",
      "                \"rating\": 4.63,\n",
      "                \"ratingCount\": 68,\n",
      "                \"viewCount\": 220101,\n",
      "                \"favoriteCount\": 201,\n",
      "                \"commentCount\": 22,\n",
      "                \"status\": {\n",
      "                    \"value\": \"restricted\",\n",
      "                    \"reason\": \"limitedSyndication\"\n",
      "                },\n",
      "                \"accessControl\": {\n",
      "                    \"syndicate\": \"allowed\",\n",
      "                    \"commentVote\": \"allowed\",\n",
      "                    \"rate\": \"allowed\",\n",
      "                    \"list\": \"allowed\",\n",
      "                    \"comment\": \"allowed\",\n",
      "                    \"embed\": \"allowed\",\n",
      "                    \"videoRespond\": \"moderated\"\n",
      "                }\n",
      "            }\n",
      "        ]\n",
      "    }\n",
      "}\n"
     ]
    }
   ],
   "source": [
    "print(json.dumps(json_data, indent=4))"
   ]
  },
  {
   "cell_type": "code",
   "execution_count": null,
   "metadata": {},
   "outputs": [],
   "source": []
  }
 ],
 "metadata": {
  "kernelspec": {
   "display_name": "Python [conda env:root] *",
   "language": "python",
   "name": "conda-root-py"
  },
  "language_info": {
   "codemirror_mode": {
    "name": "ipython",
    "version": 3
   },
   "file_extension": ".py",
   "mimetype": "text/x-python",
   "name": "python",
   "nbconvert_exporter": "python",
   "pygments_lexer": "ipython3",
   "version": "3.9.7"
  }
 },
 "nbformat": 4,
 "nbformat_minor": 2
}
