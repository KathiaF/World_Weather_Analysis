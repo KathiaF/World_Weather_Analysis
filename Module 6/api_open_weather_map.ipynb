{
 "cells": [
  {
   "cell_type": "code",
   "execution_count": 6,
   "id": "6714fddb",
   "metadata": {},
   "outputs": [],
   "source": [
    "# Dependencies\n",
    "import json\n",
    "import requests\n",
    "from config import api_key"
   ]
  },
  {
   "cell_type": "code",
   "execution_count": 10,
   "id": "9a3f809d",
   "metadata": {},
   "outputs": [
    {
     "data": {
      "text/plain": [
       "'http://api.openweathermap.org/data/2.5/weather?appid=1047c4c5dcb12c09e6a9c058ce54181e&q=Bujumbura&units=metric'"
      ]
     },
     "execution_count": 10,
     "metadata": {},
     "output_type": "execute_result"
    }
   ],
   "source": [
    "# Save config information\n",
    "url = \"http://api.openweathermap.org/data/2.5/weather\"\n",
    "#city = \"London\"\n",
    "city = \"Bujumbura\"\n",
    "units = \"metric\"\n",
    "\n",
    "api_key = \"1047c4c5dcb12c09e6a9c058ce54181e\"\n",
    "# Build query URL\n",
    "query_url = f'{url}?appid={api_key}&q={city}&units={units}'\n",
    "#query_url = f'{url}?appid=f1047c4c5dcb12c09e6a9c058ce54181e&q={city}'\n",
    "query_url"
   ]
  },
  {
   "cell_type": "code",
   "execution_count": 15,
   "id": "a8917f65",
   "metadata": {},
   "outputs": [
    {
     "data": {
      "text/plain": [
       "{'coord': {'lon': 29.3644, 'lat': -3.3822},\n",
       " 'weather': [{'id': 500,\n",
       "   'main': 'Rain',\n",
       "   'description': 'light rain',\n",
       "   'icon': '10n'}],\n",
       " 'base': 'stations',\n",
       " 'main': {'temp': 20.05,\n",
       "  'feels_like': 20.54,\n",
       "  'temp_min': 20.05,\n",
       "  'temp_max': 20.05,\n",
       "  'pressure': 1014,\n",
       "  'humidity': 93,\n",
       "  'sea_level': 1014,\n",
       "  'grnd_level': 924},\n",
       " 'visibility': 10000,\n",
       " 'wind': {'speed': 1.27, 'deg': 20, 'gust': 1.66},\n",
       " 'rain': {'1h': 0.25},\n",
       " 'clouds': {'all': 100},\n",
       " 'dt': 1643684104,\n",
       " 'sys': {'country': 'BI', 'sunrise': 1643688503, 'sunset': 1643732622},\n",
       " 'timezone': 7200,\n",
       " 'id': 425378,\n",
       " 'name': 'Bujumbura',\n",
       " 'cod': 200}"
      ]
     },
     "execution_count": 15,
     "metadata": {},
     "output_type": "execute_result"
    }
   ],
   "source": [
    "# Get weather data\n",
    "#apikey: 1047c4c5dcb12c09e6a9c058ce54181e\n",
    "response = requests.get(query_url)\n",
    "weather_json = response.json()\n",
    "\n",
    "weather_json\n",
    "# Get the temperature from the response\n",
    "#print(f\"weather at {city}: {weather_json}\")"
   ]
  },
  {
   "cell_type": "code",
   "execution_count": 16,
   "id": "5cdd73d3",
   "metadata": {},
   "outputs": [],
   "source": [
    "# Get the temperature from the response\n",
    "temperature = weather_json['main']['temp']"
   ]
  },
  {
   "cell_type": "code",
   "execution_count": 17,
   "id": "9e29bbb1",
   "metadata": {},
   "outputs": [
    {
     "name": "stdout",
     "output_type": "stream",
     "text": [
      "the temperature in Bujumbura is 20.05 ªC\n"
     ]
    }
   ],
   "source": [
    "# Report temperature\n",
    "print(f\"the temperature in {city} is {temperature} ªC\")"
   ]
  },
  {
   "cell_type": "code",
   "execution_count": null,
   "id": "d247a8a9",
   "metadata": {},
   "outputs": [],
   "source": []
  }
 ],
 "metadata": {
  "kernelspec": {
   "display_name": "PythonData",
   "language": "python",
   "name": "pythondata"
  },
  "language_info": {
   "codemirror_mode": {
    "name": "ipython",
    "version": 3
   },
   "file_extension": ".py",
   "mimetype": "text/x-python",
   "name": "python",
   "nbconvert_exporter": "python",
   "pygments_lexer": "ipython3",
   "version": "3.7.11"
  }
 },
 "nbformat": 4,
 "nbformat_minor": 5
}
