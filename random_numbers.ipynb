{
 "cells": [
  {
   "cell_type": "code",
   "execution_count": 21,
   "id": "f14cbbed",
   "metadata": {},
   "outputs": [],
   "source": [
    "# Import the random module.\n",
    "# import random\n",
    "\n",
    "# the NumPy module is a numerical mathematics library that can be used to make arrays or matrices of numbers.\n",
    "import numpy as np\n",
    "\n",
    "# The NumPy module has a built-in random module, and supplements the built-in Python random module. There is no need to import the random module if we import the NumPy module, as it's redundant\n",
    "\n",
    "# Import timeit.\n",
    "import timeit"
   ]
  },
  {
   "cell_type": "code",
   "execution_count": 2,
   "id": "dc7fb469",
   "metadata": {},
   "outputs": [
    {
     "data": {
      "text/plain": [
       "31"
      ]
     },
     "execution_count": 2,
     "metadata": {},
     "output_type": "execute_result"
    }
   ],
   "source": [
    "# randint is short for \"random integer.\n",
    "random.randint(-90, 90)"
   ]
  },
  {
   "cell_type": "code",
   "execution_count": 3,
   "id": "9ffc8ccf",
   "metadata": {},
   "outputs": [
    {
     "data": {
      "text/plain": [
       "0.4761562243849716"
      ]
     },
     "execution_count": 3,
     "metadata": {},
     "output_type": "execute_result"
    }
   ],
   "source": [
    "# get a single floating-point decimal number between 0 and 1.0.\n",
    "random.random()"
   ]
  },
  {
   "cell_type": "code",
   "execution_count": 7,
   "id": "40397e88",
   "metadata": {},
   "outputs": [
    {
     "data": {
      "text/plain": [
       "-70.5033897619929"
      ]
     },
     "execution_count": 7,
     "metadata": {},
     "output_type": "execute_result"
    }
   ],
   "source": [
    "random_number = random.randint(-90, 89) + random.random()\n",
    "random_number"
   ]
  },
  {
   "cell_type": "code",
   "execution_count": 8,
   "id": "d48f29a5",
   "metadata": {},
   "outputs": [
    {
     "data": {
      "text/plain": [
       "[38.16828679593141,\n",
       " -24.553202814501475,\n",
       " 82.82940468051142,\n",
       " -73.8245782027818,\n",
       " -66.22763046154668,\n",
       " 41.41958171596515,\n",
       " 68.41139868170345,\n",
       " 85.73823449264113,\n",
       " 70.22055771344448,\n",
       " -57.10650219851109]"
      ]
     },
     "execution_count": 8,
     "metadata": {},
     "output_type": "execute_result"
    }
   ],
   "source": [
    "x = 1\n",
    "latitudes = []\n",
    "while x < 11:\n",
    "    random_lat = random.randint(-90, 89) + random.random()\n",
    "    latitudes.append(random_lat)\n",
    "    x += 1\n",
    "latitudes"
   ]
  },
  {
   "cell_type": "code",
   "execution_count": 9,
   "id": "e30cbe71",
   "metadata": {},
   "outputs": [
    {
     "data": {
      "text/plain": [
       "27"
      ]
     },
     "execution_count": 9,
     "metadata": {},
     "output_type": "execute_result"
    }
   ],
   "source": [
    "# Returns a whole integer between the interval, where the step is the difference between each number in the sequence.\n",
    "random.randrange(-90, 90, step=1)"
   ]
  },
  {
   "cell_type": "code",
   "execution_count": 10,
   "id": "d79b6ca8",
   "metadata": {},
   "outputs": [
    {
     "data": {
      "text/plain": [
       "51"
      ]
     },
     "execution_count": 10,
     "metadata": {},
     "output_type": "execute_result"
    }
   ],
   "source": [
    "random.randrange(-90, 90, step=3)"
   ]
  },
  {
   "cell_type": "code",
   "execution_count": 11,
   "id": "9ab4c9e2",
   "metadata": {},
   "outputs": [
    {
     "data": {
      "text/plain": [
       "8.72217875805768"
      ]
     },
     "execution_count": 11,
     "metadata": {},
     "output_type": "execute_result"
    }
   ],
   "source": [
    "# The uniform() function will allow us to generate a floating-point decimal number between two given numbers inside the parentheses.\n",
    "random.uniform(-90, 90)"
   ]
  },
  {
   "cell_type": "code",
   "execution_count": 18,
   "id": "b021f982",
   "metadata": {},
   "outputs": [
    {
     "data": {
      "text/plain": [
       "40.58797471147011"
      ]
     },
     "execution_count": 18,
     "metadata": {},
     "output_type": "execute_result"
    }
   ],
   "source": [
    "# the NumPy (np) module is a numerical mathematics library that can be used to make arrays or matrices of numbers.\n",
    "np.random.uniform(-90.000, 90.000)\n",
    "# np.random.uniform(low=-90, high=90)"
   ]
  },
  {
   "cell_type": "code",
   "execution_count": 19,
   "id": "1badd34d",
   "metadata": {},
   "outputs": [
    {
     "data": {
      "text/plain": [
       "array([-80.53935766,   8.16426744,  44.63804081,  66.97685656,\n",
       "       -18.73431889, -70.31561053,  14.96258559, -14.61420539,\n",
       "        60.73420497,  34.47137901, -85.68122811, -51.22195333,\n",
       "       -42.03503879,  23.93079291,  51.31564891, -63.3447902 ,\n",
       "       -88.33642037,  78.08563008,  37.49521232,  54.85783026,\n",
       "        86.45945359,  52.8188023 , -19.05361384, -72.49411014,\n",
       "       -64.09178556,  23.28337168,  84.42159071, -34.12446656,\n",
       "         2.05947956, -45.54547163,  60.7600704 ,  39.25993117,\n",
       "        17.08361117, -83.17920638,  88.08676304, -63.42379601,\n",
       "        -7.34889106, -59.87640157, -29.91376448, -29.88448589,\n",
       "       -24.05004081, -82.86034114,  12.64062848,  64.49086476,\n",
       "        34.55410108,   0.16649701, -14.24860344, -42.62088266,\n",
       "       -54.37023313,  29.47690394])"
      ]
     },
     "execution_count": 19,
     "metadata": {},
     "output_type": "execute_result"
    }
   ],
   "source": [
    "np.random.uniform(-90.000, 90.000, size=50)"
   ]
  },
  {
   "cell_type": "code",
   "execution_count": 25,
   "id": "7804a600",
   "metadata": {},
   "outputs": [
    {
     "name": "stdout",
     "output_type": "stream",
     "text": [
      "15.2 µs ± 939 ns per loop (mean ± std. dev. of 7 runs, 10000 loops each)\n"
     ]
    }
   ],
   "source": [
    "# test how long a piece of code or function takes to run\n",
    "%timeit np.random.uniform(-90.000, 90.000, size=1500)"
   ]
  },
  {
   "cell_type": "code",
   "execution_count": 26,
   "id": "e85dc5f9",
   "metadata": {},
   "outputs": [
    {
     "name": "stdout",
     "output_type": "stream",
     "text": [
      "2.05 ms ± 86.6 µs per loop (mean ± std. dev. of 7 runs, 100 loops each)\n"
     ]
    }
   ],
   "source": [
    "def latitudes(size):\n",
    "    latitudes = []\n",
    "    x = 0\n",
    "    while x < (size):\n",
    "        random_lat = random.randint(-90, 90) + random.random()\n",
    "        latitudes.append(random_lat)\n",
    "        x += 1\n",
    "    return latitudes"
   ]
  },
  {
   "cell_type": "code",
   "execution_count": 27,
   "id": "72e8a10d",
   "metadata": {},
   "outputs": [
    {
     "name": "stdout",
     "output_type": "stream",
     "text": [
      "2.2 ms ± 90.4 µs per loop (mean ± std. dev. of 7 runs, 1000 loops each)\n"
     ]
    }
   ],
   "source": [
    "# Call the function with 1500.\n",
    "%timeit latitudes(1500)\n",
    "\n",
    "# Using the np.random.uniform(-90.000, 90.000, size=1500) is 100 times faster than using the function, and our code is one line"
   ]
  },
  {
   "cell_type": "code",
   "execution_count": null,
   "id": "f307674f",
   "metadata": {},
   "outputs": [],
   "source": []
  }
 ],
 "metadata": {
  "kernelspec": {
   "display_name": "PythonData",
   "language": "python",
   "name": "pythondata"
  },
  "language_info": {
   "codemirror_mode": {
    "name": "ipython",
    "version": 3
   },
   "file_extension": ".py",
   "mimetype": "text/x-python",
   "name": "python",
   "nbconvert_exporter": "python",
   "pygments_lexer": "ipython3",
   "version": "3.7.11"
  }
 },
 "nbformat": 4,
 "nbformat_minor": 5
}
